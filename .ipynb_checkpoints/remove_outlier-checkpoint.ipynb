{
 "cells": [
  {
   "cell_type": "code",
   "execution_count": 136,
   "metadata": {},
   "outputs": [],
   "source": [
    "import numpy as np\n",
    "import json\n",
    "import pandas as pd\n",
    "import random\n",
    "import pickle\n"
   ]
  },
  {
   "cell_type": "code",
   "execution_count": 138,
   "metadata": {},
   "outputs": [
    {
     "name": "stdout",
     "output_type": "stream",
     "text": [
      "[[28 75 92 41]\n",
      " [42 36 70 97]\n",
      " [78 74 21 29]\n",
      " [44 44 44 69]\n",
      " [78 35 52 68]\n",
      " [71 63 63 89]\n",
      " [34 84 56 70]\n",
      " [44 25 85 69]\n",
      " [61 33 91 79]\n",
      " [72 55 95 38]]\n"
     ]
    }
   ],
   "source": [
    "types = [\"car\", \"bus\", \"van\", \"pedestrian\",\"dolly\"];\n",
    "x = np.random.randint(20,100, (10,4))\n",
    "values_frames = []\n",
    "print(x)"
   ]
  },
  {
   "cell_type": "code",
   "execution_count": 139,
   "metadata": {},
   "outputs": [
    {
     "name": "stdout",
     "output_type": "stream",
     "text": [
      "1\n",
      "0\n"
     ]
    }
   ],
   "source": [
    "a = random.randint(1,2)\n",
    "b = random.randrange(0,4,1)\n",
    "print(a)\n",
    "print(b)"
   ]
  },
  {
   "cell_type": "code",
   "execution_count": 140,
   "metadata": {
    "scrolled": false
   },
   "outputs": [],
   "source": [
    "total_filename = 500\n",
    "values = []\n",
    "\n",
    "for i in range(total_filename):\n",
    "    file_name = \"name\" + str(i+1)\n",
    "    \n",
    "    random_list = np.random.randint(5)\n",
    "    types_len = len(types)\n",
    "    typenum_list = np.random.randint(types_len, size=(random_list))\n",
    "#     print(typenum_list)\n",
    "    type_list = [types[value] for value in typenum_list]\n",
    "    \n",
    "    points = np.random.randint(0, 600, size=(random_list))\n",
    "    occluded = np.random.randint(2,size=random_list)\n",
    "    value = { \"filename\": file_name, \"occluded\": list(occluded), \"points\": list(points), \"types\": list(type_list)}\n",
    "    values.append(value)\n",
    "# print(values)\n",
    "filename=\"data_result.pickle\"\n",
    "# values = {\"values\": values}\n",
    "# print(\"Values\", values)\n",
    "with open(filename, 'wb') as f:\n",
    "    pickle.dump(values, f)\n",
    "    "
   ]
  },
  {
   "cell_type": "code",
   "execution_count": 141,
   "metadata": {},
   "outputs": [
    {
     "name": "stdout",
     "output_type": "stream",
     "text": [
      "['filename', 'occluded', 'points', 'types']\n"
     ]
    }
   ],
   "source": [
    "filename = \"data_result.pickle\"\n",
    "\n",
    "with open (filename,'rb') as f:\n",
    "    data = pickle.load(f)\n",
    "#create a series panda values with headers and columns\n",
    "headers = list(data[0].keys())\n",
    "print(headers)\n",
    "\n",
    "# print(data)\n",
    "\n"
   ]
  },
  {
   "cell_type": "code",
   "execution_count": 142,
   "metadata": {},
   "outputs": [],
   "source": [
    "points_cl = []\n",
    "types_cl = []\n",
    "filenames_cl = []\n",
    "occluded_cl = []\n",
    "\n",
    "points_cl = np.concatenate([np.array(value[\"points\"]) for value in data], axis=0)\n",
    "types_cl =  np.concatenate([np.array(value[\"types\"]) for value in data], axis=0)   \n",
    "occluded_cl =  np.concatenate([np.array(value[\"occluded\"]) for value in data], axis=0)   \n",
    "filenames_cl = np.concatenate([np.full(len(value[\"types\"]), value[\"filename\"]) for value in data], axis=0)   "
   ]
  },
  {
   "cell_type": "code",
   "execution_count": 143,
   "metadata": {},
   "outputs": [
    {
     "name": "stdout",
     "output_type": "stream",
     "text": [
      "points shape (964,)\n",
      "type shape (964,)\n",
      "filename shape (964,)\n",
      "ocluded shape (964,)\n"
     ]
    }
   ],
   "source": [
    "print(\"points shape\",points_cl.shape)\n",
    "print(\"type shape\", types_cl.shape)\n",
    "print(\"filename shape\", filenames_cl.shape)\n",
    "print(\"ocluded shape\", occluded_cl.shape)"
   ]
  },
  {
   "cell_type": "code",
   "execution_count": 144,
   "metadata": {},
   "outputs": [],
   "source": [
    "d = {\"types\": types_cl, \"filename\": filenames_cl, \"occluded\": occluded_cl, \"points\": points_cl}"
   ]
  },
  {
   "cell_type": "code",
   "execution_count": 75,
   "metadata": {},
   "outputs": [
    {
     "name": "stdout",
     "output_type": "stream",
     "text": [
      "{'types': array(['bus', 'dolly', 'car', ..., 'bus', 'dolly', 'car'], dtype='<U32'), 'filename': array(['name1', 'name1', 'name2', ..., 'name499', 'name499', 'name500'],\n",
      "      dtype='<U7'), 'occluded': array([0., 1., 1., ..., 0., 1., 0.]), 'points': array([165., 444., 129., ..., 561., 474., 147.])}\n"
     ]
    }
   ],
   "source": [
    "print(d)"
   ]
  },
  {
   "cell_type": "code",
   "execution_count": 145,
   "metadata": {},
   "outputs": [],
   "source": [
    "df = pd.DataFrame(data=d)"
   ]
  },
  {
   "cell_type": "code",
   "execution_count": 146,
   "metadata": {},
   "outputs": [
    {
     "data": {
      "text/html": [
       "<div>\n",
       "<style scoped>\n",
       "    .dataframe tbody tr th:only-of-type {\n",
       "        vertical-align: middle;\n",
       "    }\n",
       "\n",
       "    .dataframe tbody tr th {\n",
       "        vertical-align: top;\n",
       "    }\n",
       "\n",
       "    .dataframe thead th {\n",
       "        text-align: right;\n",
       "    }\n",
       "</style>\n",
       "<table border=\"1\" class=\"dataframe\">\n",
       "  <thead>\n",
       "    <tr style=\"text-align: right;\">\n",
       "      <th></th>\n",
       "      <th>types</th>\n",
       "      <th>filename</th>\n",
       "      <th>occluded</th>\n",
       "      <th>points</th>\n",
       "    </tr>\n",
       "  </thead>\n",
       "  <tbody>\n",
       "    <tr>\n",
       "      <th>0</th>\n",
       "      <td>car</td>\n",
       "      <td>name1</td>\n",
       "      <td>0.0</td>\n",
       "      <td>494.0</td>\n",
       "    </tr>\n",
       "    <tr>\n",
       "      <th>1</th>\n",
       "      <td>van</td>\n",
       "      <td>name2</td>\n",
       "      <td>0.0</td>\n",
       "      <td>322.0</td>\n",
       "    </tr>\n",
       "    <tr>\n",
       "      <th>2</th>\n",
       "      <td>car</td>\n",
       "      <td>name2</td>\n",
       "      <td>1.0</td>\n",
       "      <td>113.0</td>\n",
       "    </tr>\n",
       "    <tr>\n",
       "      <th>3</th>\n",
       "      <td>bus</td>\n",
       "      <td>name3</td>\n",
       "      <td>0.0</td>\n",
       "      <td>72.0</td>\n",
       "    </tr>\n",
       "    <tr>\n",
       "      <th>4</th>\n",
       "      <td>van</td>\n",
       "      <td>name6</td>\n",
       "      <td>0.0</td>\n",
       "      <td>388.0</td>\n",
       "    </tr>\n",
       "    <tr>\n",
       "      <th>...</th>\n",
       "      <td>...</td>\n",
       "      <td>...</td>\n",
       "      <td>...</td>\n",
       "      <td>...</td>\n",
       "    </tr>\n",
       "    <tr>\n",
       "      <th>959</th>\n",
       "      <td>bus</td>\n",
       "      <td>name497</td>\n",
       "      <td>1.0</td>\n",
       "      <td>172.0</td>\n",
       "    </tr>\n",
       "    <tr>\n",
       "      <th>960</th>\n",
       "      <td>car</td>\n",
       "      <td>name497</td>\n",
       "      <td>0.0</td>\n",
       "      <td>62.0</td>\n",
       "    </tr>\n",
       "    <tr>\n",
       "      <th>961</th>\n",
       "      <td>dolly</td>\n",
       "      <td>name497</td>\n",
       "      <td>1.0</td>\n",
       "      <td>50.0</td>\n",
       "    </tr>\n",
       "    <tr>\n",
       "      <th>962</th>\n",
       "      <td>van</td>\n",
       "      <td>name498</td>\n",
       "      <td>0.0</td>\n",
       "      <td>293.0</td>\n",
       "    </tr>\n",
       "    <tr>\n",
       "      <th>963</th>\n",
       "      <td>car</td>\n",
       "      <td>name498</td>\n",
       "      <td>1.0</td>\n",
       "      <td>121.0</td>\n",
       "    </tr>\n",
       "  </tbody>\n",
       "</table>\n",
       "<p>964 rows × 4 columns</p>\n",
       "</div>"
      ],
      "text/plain": [
       "     types filename  occluded  points\n",
       "0      car    name1       0.0   494.0\n",
       "1      van    name2       0.0   322.0\n",
       "2      car    name2       1.0   113.0\n",
       "3      bus    name3       0.0    72.0\n",
       "4      van    name6       0.0   388.0\n",
       "..     ...      ...       ...     ...\n",
       "959    bus  name497       1.0   172.0\n",
       "960    car  name497       0.0    62.0\n",
       "961  dolly  name497       1.0    50.0\n",
       "962    van  name498       0.0   293.0\n",
       "963    car  name498       1.0   121.0\n",
       "\n",
       "[964 rows x 4 columns]"
      ]
     },
     "execution_count": 146,
     "metadata": {},
     "output_type": "execute_result"
    }
   ],
   "source": [
    "df"
   ]
  },
  {
   "cell_type": "code",
   "execution_count": 128,
   "metadata": {},
   "outputs": [],
   "source": [
    "#detect outlier\n",
    "def detect_outlier_by_IQR(DataFrame, AttList, Rate=3.0):\n",
    "    OutlierIdx = []\n",
    "    for att in AttList:\n",
    "        AttData = DataFrame.loc[:, att]\n",
    "        lowerq = AttData.quantile(0.25)\n",
    "        upperq = AttData.quantile(0.75)\n",
    "        IQR = upperq - lowerq\n",
    "        threshold_upper = (IQR*Rate) + upperq\n",
    "        threshold_lower = lowerq - (IQR*Rate)\n",
    "        #get list of idx that are outliers\n",
    "        print(\"Min {}, Max {}, and IQR {}\".format(AttData.min(), AttData.max(), IQR))\n",
    "        print(\"Upper fence {} and lower fence {}\".format(threshold_upper, threshold_lower))\n",
    "\n",
    "        thres_data = AttData[AttData.apply(lambda x: x >threshold_upper or x < threshold_lower)]\n",
    "        print(thres_data)\n",
    "        \n",
    "        AttOutlierIdx = set(thres_data.index.array)\n",
    "        OutlierIdx = set(OutlierIdx) | AttOutlierIdx\n",
    "        \n",
    "        print(att + \" \" + str(len(AttOutlierIdx)) + \" Outlier Idx: \" + str(AttOutlierIdx))\n",
    "    \n",
    "    OutlierIdx = list(OutlierIdx)\n",
    "    OutlierIdx = sorted(OutlierIdx)\n",
    "    return OutlierIdx\n",
    "        "
   ]
  },
  {
   "cell_type": "code",
   "execution_count": null,
   "metadata": {},
   "outputs": [],
   "source": [
    "from sklearn.neightbors import LocalOutlierFactor\n",
    "def detect_outlier_by_LOF(data_frame, att_list, lof_threshold=3.0, neighbors=10):\n",
    "    lof = LocalOutlierFactor(n_neightbors=neighbors)\n",
    "    att_data = data_frame.loc[:, att_list].values\n",
    "    y_pred = lof.fit_predict(att_data)\n",
    "    attdata_scores = -1 * clf.negative_outlier_factor_\n",
    "    lof_factor_data = pd.DataFrame(attdata_scores, columns=['LOF'])\n",
    "    lof_factor_data = lof_factor_data.sort_values('LOF', ascending=False)\n",
    "    "
   ]
  },
  {
   "cell_type": "code",
   "execution_count": 130,
   "metadata": {},
   "outputs": [],
   "source": [
    "def separate_data_by_att(DataFrame, att):\n",
    "    AttData = DataFrame.loc[:,att]\n",
    "    print(AttData)\n",
    "    types = pd.Series(np.array(AttData)).unique()\n",
    "    item_list = []\n",
    "    for t in types:\n",
    "        df_t = DataFrame[DataFrame[att] == t]\n",
    "        item_list.append(df_t)\n",
    "        print(\"Data\", df_t)\n",
    "    print(\"Types: \",types)\n",
    "    return item_list\n",
    "    "
   ]
  },
  {
   "cell_type": "code",
   "execution_count": 173,
   "metadata": {},
   "outputs": [
    {
     "name": "stdout",
     "output_type": "stream",
     "text": [
      "['types', 'filename', 'occluded', 'points']\n",
      "0        car\n",
      "1        van\n",
      "2        car\n",
      "3        bus\n",
      "4        van\n",
      "       ...  \n",
      "959      bus\n",
      "960      car\n",
      "961    dolly\n",
      "962      van\n",
      "963      car\n",
      "Name: types, Length: 964, dtype: object\n",
      "Data     types filename  occluded  points\n",
      "0     car    name1       0.0   494.0\n",
      "2     car    name2       1.0   113.0\n",
      "6     car    name6       0.0    67.0\n",
      "9     car    name9       0.0   553.0\n",
      "10    car   name10       0.0   130.0\n",
      "..    ...      ...       ...     ...\n",
      "956   car  name495       0.0    35.0\n",
      "957   car  name495       0.0   436.0\n",
      "958   car  name497       0.0   454.0\n",
      "960   car  name497       0.0    62.0\n",
      "963   car  name498       1.0   121.0\n",
      "\n",
      "[196 rows x 4 columns]\n",
      "Data     types filename  occluded  points\n",
      "1     van    name2       0.0   322.0\n",
      "4     van    name6       0.0   388.0\n",
      "12    van   name10       1.0     6.0\n",
      "24    van   name16       0.0   462.0\n",
      "25    van   name16       0.0   579.0\n",
      "..    ...      ...       ...     ...\n",
      "925   van  name478       1.0   113.0\n",
      "940   van  name487       0.0    39.0\n",
      "943   van  name489       0.0   293.0\n",
      "948   van  name491       0.0   290.0\n",
      "962   van  name498       0.0   293.0\n",
      "\n",
      "[173 rows x 4 columns]\n",
      "Data     types filename  occluded  points\n",
      "3     bus    name3       0.0    72.0\n",
      "5     bus    name6       1.0   325.0\n",
      "7     bus    name9       0.0    88.0\n",
      "14    bus   name12       0.0   414.0\n",
      "15    bus   name12       0.0   181.0\n",
      "..    ...      ...       ...     ...\n",
      "939   bus  name487       0.0   177.0\n",
      "942   bus  name487       1.0   268.0\n",
      "944   bus  name489       0.0   171.0\n",
      "952   bus  name492       0.0   187.0\n",
      "959   bus  name497       1.0   172.0\n",
      "\n",
      "[184 rows x 4 columns]\n",
      "Data           types filename  occluded  points\n",
      "8    pedestrian    name9       1.0   375.0\n",
      "13   pedestrian   name11       1.0   326.0\n",
      "21   pedestrian   name14       0.0   230.0\n",
      "23   pedestrian   name14       1.0   495.0\n",
      "44   pedestrian   name32       0.0     8.0\n",
      "..          ...      ...       ...     ...\n",
      "941  pedestrian  name487       0.0   559.0\n",
      "949  pedestrian  name491       1.0   179.0\n",
      "953  pedestrian  name492       1.0   343.0\n",
      "954  pedestrian  name493       1.0   149.0\n",
      "955  pedestrian  name493       0.0   407.0\n",
      "\n",
      "[206 rows x 4 columns]\n",
      "Data      types filename  occluded  points\n",
      "11   dolly   name10       1.0    93.0\n",
      "17   dolly   name13       0.0   202.0\n",
      "18   dolly   name13       0.0   353.0\n",
      "19   dolly   name13       1.0    45.0\n",
      "20   dolly   name13       0.0   521.0\n",
      "..     ...      ...       ...     ...\n",
      "935  dolly  name483       0.0   409.0\n",
      "945  dolly  name489       1.0   301.0\n",
      "946  dolly  name490       1.0   376.0\n",
      "950  dolly  name491       1.0   482.0\n",
      "961  dolly  name497       1.0    50.0\n",
      "\n",
      "[205 rows x 4 columns]\n",
      "Types:  ['car' 'van' 'bus' 'pedestrian' 'dolly']\n"
     ]
    }
   ],
   "source": [
    "#separate by class\n",
    "outlier_index = set()\n",
    "headers = df.columns.values.tolist()\n",
    "print(headers)\n",
    "item_list = separate_data_by_att(df,'types')\n"
   ]
  },
  {
   "cell_type": "code",
   "execution_count": 168,
   "metadata": {},
   "outputs": [
    {
     "name": "stdout",
     "output_type": "stream",
     "text": [
      "Min 2.0, Max 595.0, and IQR 294.75\n",
      "Upper fence 579.125 and lower fence -10.375\n",
      "770    595.0\n",
      "Name: points, dtype: float64\n",
      "points 1 Outlier Idx: {770}\n",
      "Min 3.0, Max 599.0, and IQR 341.0\n",
      "Upper fence 643.5 and lower fence -38.5\n",
      "Series([], Name: points, dtype: float64)\n",
      "points 0 Outlier Idx: set()\n",
      "Min 5.0, Max 599.0, and IQR 323.0\n",
      "Upper fence 582.5 and lower fence -63.5\n",
      "38     595.0\n",
      "127    599.0\n",
      "434    598.0\n",
      "488    592.0\n",
      "489    586.0\n",
      "Name: points, dtype: float64\n",
      "points 5 Outlier Idx: {38, 488, 489, 434, 127}\n",
      "Min 6.0, Max 599.0, and IQR 320.0\n",
      "Upper fence 617.5 and lower fence -22.5\n",
      "Series([], Name: points, dtype: float64)\n",
      "points 0 Outlier Idx: set()\n",
      "Min 8.0, Max 599.0, and IQR 306.0\n",
      "Upper fence 592.0 and lower fence -20.0\n",
      "63     598.0\n",
      "198    596.0\n",
      "237    596.0\n",
      "645    599.0\n",
      "Name: points, dtype: float64\n",
      "points 4 Outlier Idx: {645, 237, 198, 63}\n"
     ]
    }
   ],
   "source": [
    "outlierAtt = ['points']\n",
    "outlier_idx_list = []\n",
    "for item in item_list:\n",
    "    outlier_idx_list += detect_outlier_by_IQR(item, AttList=outlierAtt, Rate=0.5)\n",
    "#     print(\"Size of IQR: \" + str(len(outlier_idx)))\n",
    "#remove outlier by LOF as well"
   ]
  },
  {
   "cell_type": "code",
   "execution_count": 169,
   "metadata": {},
   "outputs": [
    {
     "name": "stdout",
     "output_type": "stream",
     "text": [
      "[770, 38, 127, 434, 488, 489, 63, 198, 237, 645]\n",
      "    types filename  occluded  points\n",
      "770   car  name398       0.0   595.0\n",
      "     types filename  occluded  points\n",
      "645  dolly  name330       1.0   599.0\n",
      "    types filename  occluded  points\n",
      "434   bus  name228       0.0   598.0\n"
     ]
    }
   ],
   "source": [
    "#Remove outliers idx \n",
    "print(outlier_idx_list)\n",
    "print(df.loc[[770]])\n",
    "print(df.loc[[645]])\n",
    "print(df.loc[[434]])"
   ]
  },
  {
   "cell_type": "code",
   "execution_count": 179,
   "metadata": {},
   "outputs": [],
   "source": [
    "def remove_rows_from_dataframe(dataframe, rowIdxList = []):\n",
    "    data_frame = dataframe.drop(rowIdxList)\n",
    "    print(data_frame.shape)\n",
    "    data_frame = data_frame.reset_index(drop=True)\n",
    "    return data_frame"
   ]
  },
  {
   "cell_type": "code",
   "execution_count": 180,
   "metadata": {},
   "outputs": [
    {
     "name": "stdout",
     "output_type": "stream",
     "text": [
      "(954, 4)\n"
     ]
    }
   ],
   "source": [
    "#remove data frome data_frame should we cluster points inside box?\n",
    "data_frame = remove_rows_from_dataframe(df,outlier_idx_list)"
   ]
  },
  {
   "cell_type": "code",
   "execution_count": 181,
   "metadata": {},
   "outputs": [
    {
     "name": "stdout",
     "output_type": "stream",
     "text": [
      "(954, 4)\n"
     ]
    }
   ],
   "source": [
    "print(data_frame.shape)"
   ]
  },
  {
   "cell_type": "code",
   "execution_count": null,
   "metadata": {},
   "outputs": [],
   "source": []
  }
 ],
 "metadata": {
  "kernelspec": {
   "display_name": "Python 3",
   "language": "python",
   "name": "python3"
  },
  "language_info": {
   "codemirror_mode": {
    "name": "ipython",
    "version": 3
   },
   "file_extension": ".py",
   "mimetype": "text/x-python",
   "name": "python",
   "nbconvert_exporter": "python",
   "pygments_lexer": "ipython3",
   "version": "3.8.2"
  }
 },
 "nbformat": 4,
 "nbformat_minor": 4
}
